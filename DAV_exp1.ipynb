{
  "nbformat": 4,
  "nbformat_minor": 0,
  "metadata": {
    "colab": {
      "provenance": []
    },
    "kernelspec": {
      "name": "ir",
      "display_name": "R"
    },
    "language_info": {
      "name": "R"
    }
  },
  "cells": [
    {
      "cell_type": "code",
      "execution_count": 9,
      "metadata": {
        "id": "H-bm1cqqm7IQ"
      },
      "outputs": [],
      "source": [
        "import numpy as np\n"
      ]
    },
    {
      "cell_type": "code",
      "source": [],
      "metadata": {
        "id": "osMI7EOJxioc"
      },
      "execution_count": 12,
      "outputs": []
    },
    {
      "cell_type": "code",
      "source": [
        "\n",
        "x = np.arange(15, dtype=np.int64).reshape(3, 5)\n",
        "x[1:, ::2] = -99\n",
        "x\n"
      ],
      "metadata": {
        "colab": {
          "base_uri": "https://localhost:8080/"
        },
        "id": "N6hYX7AToR2L",
        "outputId": "c247a62a-45f3-4ddc-bdb3-0109ae0c10dd"
      },
      "execution_count": 10,
      "outputs": [
        {
          "output_type": "execute_result",
          "data": {
            "text/plain": [
              "array([[  0,   1,   2,   3,   4],\n",
              "       [-99,   6, -99,   8, -99],\n",
              "       [-99,  11, -99,  13, -99]])"
            ]
          },
          "metadata": {},
          "execution_count": 10
        }
      ]
    },
    {
      "cell_type": "code",
      "source": [
        "\n",
        "arr1d = np.array([1, 2, 3, 4, 5])\n",
        "print(\"Multiply\")\n",
        "print(\"Sum of elements in arr1d:\", np.sum(arr1d))\n",
        "print(\"Mean of elements in arr1d:\", np.mean(arr1d))\n"
      ],
      "metadata": {
        "colab": {
          "base_uri": "https://localhost:8080/"
        },
        "id": "BksAZPyhonPa",
        "outputId": "a7770eec-87f0-49e7-d196-cea544111cb7"
      },
      "execution_count": 11,
      "outputs": [
        {
          "output_type": "stream",
          "name": "stdout",
          "text": [
            "Multiply\n",
            "Sum of elements in arr1d: 15\n",
            "Mean of elements in arr1d: 3.0\n"
          ]
        }
      ]
    },
    {
      "cell_type": "code",
      "source": [
        "import pandas as pd\n",
        "\n",
        "# Creating a DataFrame from a dictionary\n",
        "data = {'Name': ['Alice', 'Bob', 'Charlie', 'David'],\n",
        "        'Age': [25, 30, 35, 22],\n",
        "        'City': ['New York', 'San Francisco', 'Los Angeles', 'Chicago']}\n",
        "\n",
        "df = pd.DataFrame(data)\n",
        "print(\"DataFrame:\")\n",
        "print(df)\n",
        "\n",
        "# Accessing columns\n",
        "print(\"\\nAccessing Columns:\")\n",
        "print(\"Names:\")\n",
        "print(df['Name'])\n",
        "print(\"\\nAges:\")\n",
        "print(df['Age'])\n"
      ],
      "metadata": {
        "colab": {
          "base_uri": "https://localhost:8080/"
        },
        "id": "GDF4vv5ipqBq",
        "outputId": "9adfa821-56ca-4bcb-9065-fb56cc077fb0"
      },
      "execution_count": 13,
      "outputs": [
        {
          "output_type": "stream",
          "name": "stdout",
          "text": [
            "DataFrame:\n",
            "      Name  Age           City\n",
            "0    Alice   25       New York\n",
            "1      Bob   30  San Francisco\n",
            "2  Charlie   35    Los Angeles\n",
            "3    David   22        Chicago\n",
            "\n",
            "Accessing Columns:\n",
            "Names:\n",
            "0      Alice\n",
            "1        Bob\n",
            "2    Charlie\n",
            "3      David\n",
            "Name: Name, dtype: object\n",
            "\n",
            "Ages:\n",
            "0    25\n",
            "1    30\n",
            "2    35\n",
            "3    22\n",
            "Name: Age, dtype: int64\n"
          ]
        }
      ]
    },
    {
      "cell_type": "code",
      "source": [
        "library(tidyverse)\n",
        "\n",
        "# Create a sample messy dataset\n",
        "messy_data <- data.frame(\n",
        "  ID = c(1, 2, 3),\n",
        "  Name = c(\"Alice\", \"Bob\", \"Charlie\"),\n",
        "  Test1 = c(95, NA, 75),\n",
        "  Test2 = c(85, 90, NA),\n",
        "  Test3 = c(80, 88, 92)\n",
        ")\n",
        "\n",
        "# Display the messy dataset\n",
        "print(\"Messy Dataset:\")\n",
        "print(messy_data)\n",
        "\n",
        "# Reshape the dataset using tidyr's pivot_longer function\n",
        "tidy_data <- messy_data %>%\n",
        "  pivot_longer(cols = starts_with(\"Test\"),\n",
        "               names_to = \"Test\",\n",
        "               values_to = \"Score\")\n",
        "\n",
        "# Display the tidy dataset\n",
        "print(\"\\nTidy Dataset:\")\n",
        "print(tidy_data)"
      ],
      "metadata": {
        "colab": {
          "base_uri": "https://localhost:8080/"
        },
        "id": "yVAsO7__xk2C",
        "outputId": "c53373ca-7e03-4ad1-bd60-6c311c9539a5"
      },
      "execution_count": 1,
      "outputs": [
        {
          "output_type": "stream",
          "name": "stderr",
          "text": [
            "── \u001b[1mAttaching core tidyverse packages\u001b[22m ──────────────────────── tidyverse 2.0.0 ──\n",
            "\u001b[32m✔\u001b[39m \u001b[34mdplyr    \u001b[39m 1.1.4     \u001b[32m✔\u001b[39m \u001b[34mreadr    \u001b[39m 2.1.4\n",
            "\u001b[32m✔\u001b[39m \u001b[34mforcats  \u001b[39m 1.0.0     \u001b[32m✔\u001b[39m \u001b[34mstringr  \u001b[39m 1.5.1\n",
            "\u001b[32m✔\u001b[39m \u001b[34mggplot2  \u001b[39m 3.4.4     \u001b[32m✔\u001b[39m \u001b[34mtibble   \u001b[39m 3.2.1\n",
            "\u001b[32m✔\u001b[39m \u001b[34mlubridate\u001b[39m 1.9.3     \u001b[32m✔\u001b[39m \u001b[34mtidyr    \u001b[39m 1.3.0\n",
            "\u001b[32m✔\u001b[39m \u001b[34mpurrr    \u001b[39m 1.0.2     \n",
            "── \u001b[1mConflicts\u001b[22m ────────────────────────────────────────── tidyverse_conflicts() ──\n",
            "\u001b[31m✖\u001b[39m \u001b[34mdplyr\u001b[39m::\u001b[32mfilter()\u001b[39m masks \u001b[34mstats\u001b[39m::filter()\n",
            "\u001b[31m✖\u001b[39m \u001b[34mdplyr\u001b[39m::\u001b[32mlag()\u001b[39m    masks \u001b[34mstats\u001b[39m::lag()\n",
            "\u001b[36mℹ\u001b[39m Use the conflicted package (\u001b[3m\u001b[34m<http://conflicted.r-lib.org/>\u001b[39m\u001b[23m) to force all conflicts to become errors\n"
          ]
        },
        {
          "output_type": "stream",
          "name": "stdout",
          "text": [
            "[1] \"Messy Dataset:\"\n",
            "  ID    Name Test1 Test2 Test3\n",
            "1  1   Alice    95    85    80\n",
            "2  2     Bob    NA    90    88\n",
            "3  3 Charlie    75    NA    92\n",
            "[1] \"\\nTidy Dataset:\"\n",
            "\u001b[90m# A tibble: 9 × 4\u001b[39m\n",
            "     ID Name    Test  Score\n",
            "  \u001b[3m\u001b[90m<dbl>\u001b[39m\u001b[23m \u001b[3m\u001b[90m<chr>\u001b[39m\u001b[23m   \u001b[3m\u001b[90m<chr>\u001b[39m\u001b[23m \u001b[3m\u001b[90m<dbl>\u001b[39m\u001b[23m\n",
            "\u001b[90m1\u001b[39m     1 Alice   Test1    95\n",
            "\u001b[90m2\u001b[39m     1 Alice   Test2    85\n",
            "\u001b[90m3\u001b[39m     1 Alice   Test3    80\n",
            "\u001b[90m4\u001b[39m     2 Bob     Test1    \u001b[31mNA\u001b[39m\n",
            "\u001b[90m5\u001b[39m     2 Bob     Test2    90\n",
            "\u001b[90m6\u001b[39m     2 Bob     Test3    88\n",
            "\u001b[90m7\u001b[39m     3 Charlie Test1    75\n",
            "\u001b[90m8\u001b[39m     3 Charlie Test2    \u001b[31mNA\u001b[39m\n",
            "\u001b[90m9\u001b[39m     3 Charlie Test3    92\n"
          ]
        }
      ]
    },
    {
      "cell_type": "code",
      "source": [
        "\n",
        "library(dplyr)\n",
        "\n",
        "# Create a sample dataset\n",
        "data <- data.frame(\n",
        "  ID = c(1, 2, 3, 4, 5),\n",
        "  Name = c(\"Alice\", \"Bob\", \"Charlie\", \"David\", \"Eve\"),\n",
        "  Age = c(25, 30, 35, 22, 28),\n",
        "  City = c(\"New York\", \"San Francisco\", \"Los Angeles\", \"Chicago\", \"Miami\"),\n",
        "  Salary = c(60000, 70000, 80000, 50000, 75000)\n",
        ")\n",
        "\n",
        "# Display the original dataset\n",
        "print(\"Original Dataset:\")\n",
        "print(data)\n",
        "\n",
        "# Filter rows based on a condition\n",
        "filtered_data <- data %>%\n",
        "  filter(Age > 25)\n",
        "\n",
        "# Display the filtered dataset\n",
        "print(\"\\nFiltered Dataset (Age > 25):\")\n",
        "print(filtered_data)\n",
        "\n",
        "# Select specific columns\n",
        "selected_columns <- data %>%\n",
        "  select(Name, City)\n",
        "\n",
        "# Display the dataset with selected columns\n",
        "print(\"\\nDataset with Selected Columns:\")\n",
        "print(selected_columns)\n",
        "\n",
        "# Create a new column\n",
        "data_with_bonus <- data %>%\n",
        "  mutate(SalaryWithBonus = Salary * 1.1)\n",
        "\n",
        "# Display the dataset with the new column\n",
        "print(\"\\nDataset with Salary Bonus:\")\n",
        "print(data_with_bonus)\n",
        "\n",
        "# Group by City and calculate average salary\n",
        "average_salary_by_city <- data %>%\n",
        "  group_by(City) %>%\n",
        "  summarize(AverageSalary = mean(Salary))\n",
        "\n",
        "# Display the average salary by city\n",
        "print(\"\\nAverage Salary by City:\")\n",
        "print(average_salary_by_city)"
      ],
      "metadata": {
        "colab": {
          "base_uri": "https://localhost:8080/"
        },
        "id": "Ze6j3a3Vzt2P",
        "outputId": "fc228c08-0c6d-4100-9af9-e065d8332d1b"
      },
      "execution_count": 2,
      "outputs": [
        {
          "output_type": "stream",
          "name": "stdout",
          "text": [
            "[1] \"Original Dataset:\"\n",
            "  ID    Name Age          City Salary\n",
            "1  1   Alice  25      New York  60000\n",
            "2  2     Bob  30 San Francisco  70000\n",
            "3  3 Charlie  35   Los Angeles  80000\n",
            "4  4   David  22       Chicago  50000\n",
            "5  5     Eve  28         Miami  75000\n",
            "[1] \"\\nFiltered Dataset (Age > 25):\"\n",
            "  ID    Name Age          City Salary\n",
            "1  2     Bob  30 San Francisco  70000\n",
            "2  3 Charlie  35   Los Angeles  80000\n",
            "3  5     Eve  28         Miami  75000\n",
            "[1] \"\\nDataset with Selected Columns:\"\n",
            "     Name          City\n",
            "1   Alice      New York\n",
            "2     Bob San Francisco\n",
            "3 Charlie   Los Angeles\n",
            "4   David       Chicago\n",
            "5     Eve         Miami\n",
            "[1] \"\\nDataset with Salary Bonus:\"\n",
            "  ID    Name Age          City Salary SalaryWithBonus\n",
            "1  1   Alice  25      New York  60000           66000\n",
            "2  2     Bob  30 San Francisco  70000           77000\n",
            "3  3 Charlie  35   Los Angeles  80000           88000\n",
            "4  4   David  22       Chicago  50000           55000\n",
            "5  5     Eve  28         Miami  75000           82500\n",
            "[1] \"\\nAverage Salary by City:\"\n",
            "\u001b[90m# A tibble: 5 × 2\u001b[39m\n",
            "  City          AverageSalary\n",
            "  \u001b[3m\u001b[90m<chr>\u001b[39m\u001b[23m                 \u001b[3m\u001b[90m<dbl>\u001b[39m\u001b[23m\n",
            "\u001b[90m1\u001b[39m Chicago               \u001b[4m5\u001b[24m\u001b[4m0\u001b[24m000\n",
            "\u001b[90m2\u001b[39m Los Angeles           \u001b[4m8\u001b[24m\u001b[4m0\u001b[24m000\n",
            "\u001b[90m3\u001b[39m Miami                 \u001b[4m7\u001b[24m\u001b[4m5\u001b[24m000\n",
            "\u001b[90m4\u001b[39m New York              \u001b[4m6\u001b[24m\u001b[4m0\u001b[24m000\n",
            "\u001b[90m5\u001b[39m San Francisco         \u001b[4m7\u001b[24m\u001b[4m0\u001b[24m000\n"
          ]
        }
      ]
    },
    {
      "cell_type": "code",
      "source": [],
      "metadata": {
        "id": "z_jfSEa2z9y7"
      },
      "execution_count": null,
      "outputs": []
    }
  ]
}