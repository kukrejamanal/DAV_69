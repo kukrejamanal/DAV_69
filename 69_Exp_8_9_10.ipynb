{
  "nbformat": 4,
  "nbformat_minor": 0,
  "metadata": {
    "colab": {
      "provenance": [],
      "include_colab_link": true
    },
    "kernelspec": {
      "name": "python3",
      "display_name": "Python 3"
    },
    "language_info": {
      "name": "python"
    }
  },
  "cells": [
    {
      "cell_type": "markdown",
      "metadata": {
        "id": "view-in-github",
        "colab_type": "text"
      },
      "source": [
        "<a href=\"https://colab.research.google.com/github/kukrejamanal/DAV_69/blob/main/69_Exp_8_9_10.ipynb\" target=\"_parent\"><img src=\"https://colab.research.google.com/assets/colab-badge.svg\" alt=\"Open In Colab\"/></a>"
      ]
    },
    {
      "cell_type": "markdown",
      "source": [
        "**Experiment 8 : Set Up a D3.js Environment, Select Elements in D3, Modify Elements in D3,Data Loading in D3**"
      ],
      "metadata": {
        "id": "tg7iXoNw6hoP"
      }
    },
    {
      "cell_type": "markdown",
      "source": [
        "Select Method :\n",
        "1. **select()**\n",
        "2. **selectAll()**\n",
        "\n",
        "Selection can be done in the following 3 ways :\n",
        "*   Tag of a HTML element (e.g. div, h1, p, span, etc.,)\n",
        "*   Class name of a HTML element\n",
        "*   ID of a HTML element\n",
        "\n",
        "\n",
        "\n",
        "\n",
        "\n"
      ],
      "metadata": {
        "id": "plZ4nHiOSt6o"
      }
    },
    {
      "cell_type": "code",
      "execution_count": 1,
      "metadata": {
        "colab": {
          "base_uri": "https://localhost:8080/",
          "height": 34
        },
        "id": "R1i-IdT_PRwo",
        "outputId": "9838647a-29ab-447c-c6dc-0b6ba49e62de"
      },
      "outputs": [
        {
          "output_type": "display_data",
          "data": {
            "text/plain": [
              "<IPython.core.display.HTML object>"
            ],
            "text/html": [
              "<!--Selection by Tag-->\n",
              "<!DOCTYPE html>\n",
              "<html>\n",
              "   <head>\n",
              "      <script type = \"text/javascript\" src = \"https://d3js.org/d3.v4.min.js\"></script>\n",
              "   </head>\n",
              "\n",
              "   <body>\n",
              "      <div>\n",
              "         Hello World!\n",
              "      </div>\n",
              "\n",
              "      <script>\n",
              "         d3.select(\"div\").text();\n",
              "      </script>\n",
              "   </body>\n",
              "</html>\n"
            ]
          },
          "metadata": {}
        }
      ],
      "source": [
        "%%html\n",
        "<!--Selection by Tag-->\n",
        "<!DOCTYPE html>\n",
        "<html>\n",
        "   <head>\n",
        "      <script type = \"text/javascript\" src = \"https://d3js.org/d3.v4.min.js\"></script>\n",
        "   </head>\n",
        "\n",
        "   <body>\n",
        "      <div>\n",
        "         Hello World!\n",
        "      </div>\n",
        "\n",
        "      <script>\n",
        "         d3.select(\"div\").text();\n",
        "      </script>\n",
        "   </body>\n",
        "</html>"
      ]
    },
    {
      "cell_type": "code",
      "source": [
        "%%html\n",
        "<!--Selection by class name-->\n",
        "<!DOCTYPE html>\n",
        "<html>\n",
        "  <head>\n",
        "    <script type = \"text/javascript\" src = \"https://d3js.org/d3.v4.min.js\"></script>\n",
        "  </head>\n",
        "\n",
        "  <body>\n",
        "      <div class = \"myclass\">\n",
        "         Manal. D3.js\n",
        "      </div>\n",
        "\n",
        "      <script>\n",
        "         d3.select(\".myclass\").text();\n",
        "      </script>\n",
        "   </body>\n",
        "</html>"
      ],
      "metadata": {
        "colab": {
          "base_uri": "https://localhost:8080/",
          "height": 34
        },
        "id": "zpdtet5LQHX5",
        "outputId": "bec8246c-936f-4f12-d888-b980bc03ad58"
      },
      "execution_count": 4,
      "outputs": [
        {
          "output_type": "display_data",
          "data": {
            "text/plain": [
              "<IPython.core.display.HTML object>"
            ],
            "text/html": [
              "<!--Selection by class name-->\n",
              "<!DOCTYPE html>\n",
              "<html>\n",
              "  <head>\n",
              "    <script type = \"text/javascript\" src = \"https://d3js.org/d3.v4.min.js\"></script>\n",
              "  </head>\n",
              "\n",
              "  <body>\n",
              "      <div class = \"myclass\">\n",
              "         Manal. D3.js\n",
              "      </div>\n",
              "\n",
              "      <script>\n",
              "         d3.select(\".myclass\").text();\n",
              "      </script>\n",
              "   </body>\n",
              "</html>\n"
            ]
          },
          "metadata": {}
        }
      ]
    },
    {
      "cell_type": "code",
      "source": [
        "%%html\n",
        "<!--Selection by ID-->\n",
        "<!DOCTYPE html>\n",
        "<html>\n",
        "  <head>\n",
        "    <script type = \"text/javascript\" src = \"https://d3js.org/d3.v4.min.js\"></script>\n",
        "  </head>\n",
        "\n",
        "  <body>\n",
        "      <div id = \"hello\">\n",
        "         Mukund learns D3.js\n",
        "      </div>\n",
        "\n",
        "      <script>\n",
        "        d3.select(\"#hello\").text();\n",
        "      </script>\n",
        "   </body>\n",
        "</html>"
      ],
      "metadata": {
        "id": "NR2SqpspQz9P"
      },
      "execution_count": null,
      "outputs": []
    },
    {
      "cell_type": "markdown",
      "source": [
        "*Adding DOM (Document Object Model) Elements.*\n",
        "*   The D3.js selection provides the append() and the text() methods to append new elements into the existing HTML documents.\n",
        "\n",
        "\n",
        "\n"
      ],
      "metadata": {
        "id": "XxkSq967Tfmt"
      }
    },
    {
      "cell_type": "markdown",
      "source": [
        "1. **append()** method - appends a new element as the last child of the element in the current selection. This method can also modify the style of the elements, their attributes, properties, HTML and text content."
      ],
      "metadata": {
        "id": "kUkBliWjT1p2"
      }
    },
    {
      "cell_type": "code",
      "source": [
        "%%html\n",
        "<!DOCTYPE html>\n",
        "<html>\n",
        "   <head>\n",
        "      <script type = \"text/javascript\" src = \"https://d3js.org/d3.v4.min.js\"></script>\n",
        "   </head>\n",
        "\n",
        "   <body>\n",
        "      <div class = \"myclass\">\n",
        "         Hello World!\n",
        "      </div>\n",
        "\n",
        "      <script>\n",
        "         d3.select(\"div.myclass\").append(\"span\");\n",
        "      </script>\n",
        "   </body>\n",
        "</html>"
      ],
      "metadata": {
        "colab": {
          "base_uri": "https://localhost:8080/",
          "height": 34
        },
        "id": "xjnc2BB_RGsO",
        "outputId": "5f113982-59c1-48ae-a0f4-d73c6497d5cf"
      },
      "execution_count": 5,
      "outputs": [
        {
          "output_type": "display_data",
          "data": {
            "text/plain": [
              "<IPython.core.display.HTML object>"
            ],
            "text/html": [
              "<!DOCTYPE html>\n",
              "<html>\n",
              "   <head>\n",
              "      <script type = \"text/javascript\" src = \"https://d3js.org/d3.v4.min.js\"></script>\n",
              "   </head>\n",
              "\n",
              "   <body>\n",
              "      <div class = \"myclass\">\n",
              "         Hello World!\n",
              "      </div>\n",
              "\n",
              "      <script>\n",
              "         d3.select(\"div.myclass\").append(\"span\");\n",
              "      </script>\n",
              "   </body>\n",
              "</html>\n"
            ]
          },
          "metadata": {}
        }
      ]
    },
    {
      "cell_type": "markdown",
      "source": [
        "2. **text()** method - used to set the content of the selected / appended elements."
      ],
      "metadata": {
        "id": "jhGqVx6aUNC-"
      }
    },
    {
      "cell_type": "code",
      "source": [
        "%%html\n",
        "<!DOCTYPE html>\n",
        "<html>\n",
        "   <head>\n",
        "      <script type = \"text/javascript\" src = \"https://d3js.org/d3.v4.min.js\"></script>\n",
        "   </head>\n",
        "\n",
        "   <body>\n",
        "      <div class = \"myclass\">\n",
        "         Hello World!\n",
        "      </div>\n",
        "\n",
        "      <script>\n",
        "         d3.select(\"div.myclass\").append(\"span\").text(\"from D3.js\");\n",
        "      </script>\n",
        "   </body>\n",
        "</html>"
      ],
      "metadata": {
        "colab": {
          "base_uri": "https://localhost:8080/",
          "height": 34
        },
        "id": "TzF23fmLUVfO",
        "outputId": "d6d5fd4d-7fa0-45d8-ebf1-8fe72b03970c"
      },
      "execution_count": 6,
      "outputs": [
        {
          "output_type": "display_data",
          "data": {
            "text/plain": [
              "<IPython.core.display.HTML object>"
            ],
            "text/html": [
              "<!DOCTYPE html>\n",
              "<html>\n",
              "   <head>\n",
              "      <script type = \"text/javascript\" src = \"https://d3js.org/d3.v4.min.js\"></script>\n",
              "   </head>\n",
              "\n",
              "   <body>\n",
              "      <div class = \"myclass\">\n",
              "         Hello World!\n",
              "      </div>\n",
              "\n",
              "      <script>\n",
              "         d3.select(\"div.myclass\").append(\"span\").text(\"from D3.js\");\n",
              "      </script>\n",
              "   </body>\n",
              "</html>\n"
            ]
          },
          "metadata": {}
        }
      ]
    },
    {
      "cell_type": "markdown",
      "source": [
        "**Modifying Elements** - D3.js provides various methods, html(), attr() and style() to modify the content and style of the selected elements."
      ],
      "metadata": {
        "id": "Tg5iZlD2Un2Y"
      }
    },
    {
      "cell_type": "markdown",
      "source": [
        "1. **html()** method - used to set the html content of the selected / appended elements."
      ],
      "metadata": {
        "id": "uVU9WRNHUufe"
      }
    },
    {
      "cell_type": "code",
      "source": [
        "%%html\n",
        "<!DOCTYPE html>\n",
        "<html>\n",
        "   <head>\n",
        "      <script type = \"text/javascript\" src = \"https://d3js.org/d3.v4.min.js\"></script>\n",
        "   </head>\n",
        "\n",
        "   <body>\n",
        "      <div class = \"myclass\">\n",
        "         Hello World!\n",
        "      </div>\n",
        "\n",
        "      <script>\n",
        "         d3.select(\".myclass\").html(\"Hello World! <span>from D3.js</span>\");\n",
        "      </script>\n",
        "   </body>\n",
        "</html>"
      ],
      "metadata": {
        "colab": {
          "base_uri": "https://localhost:8080/",
          "height": 34
        },
        "id": "7Le34RGJUtxm",
        "outputId": "913db2df-b939-4810-ebcb-15a406a708ef"
      },
      "execution_count": 7,
      "outputs": [
        {
          "output_type": "display_data",
          "data": {
            "text/plain": [
              "<IPython.core.display.HTML object>"
            ],
            "text/html": [
              "<!DOCTYPE html>\n",
              "<html>\n",
              "   <head>\n",
              "      <script type = \"text/javascript\" src = \"https://d3js.org/d3.v4.min.js\"></script>\n",
              "   </head>\n",
              "\n",
              "   <body>\n",
              "      <div class = \"myclass\">\n",
              "         Hello World!\n",
              "      </div>\n",
              "\n",
              "      <script>\n",
              "         d3.select(\".myclass\").html(\"Hello World! <span>from D3.js</span>\");\n",
              "      </script>\n",
              "   </body>\n",
              "</html>\n"
            ]
          },
          "metadata": {}
        }
      ]
    },
    {
      "cell_type": "markdown",
      "source": [
        "2. **attr()** Method - used to add or update the attribute of the selected elements."
      ],
      "metadata": {
        "id": "FBKk3QPIVCQh"
      }
    },
    {
      "cell_type": "code",
      "source": [
        "%%html\n",
        "<!DOCTYPE html>\n",
        "<html>\n",
        "   <head>\n",
        "      <script type = \"text/javascript\" src = \"https://d3js.org/d3.v4.min.js\"></script>\n",
        "   </head>\n",
        "\n",
        "   <body>\n",
        "      <div class = \"myclass\">\n",
        "         Hello Manal!\n",
        "      </div>\n",
        "\n",
        "      <script>\n",
        "         d3.select(\".myclass\").attr(\"style\", \"color: red\");\n",
        "      </script>\n",
        "   </body>\n",
        "</html>"
      ],
      "metadata": {
        "colab": {
          "base_uri": "https://localhost:8080/",
          "height": 34
        },
        "id": "A3udP7tYVJ2p",
        "outputId": "921b66d7-76a2-436d-b95e-c12047b67f49"
      },
      "execution_count": 9,
      "outputs": [
        {
          "output_type": "display_data",
          "data": {
            "text/plain": [
              "<IPython.core.display.HTML object>"
            ],
            "text/html": [
              "<!DOCTYPE html>\n",
              "<html>\n",
              "   <head>\n",
              "      <script type = \"text/javascript\" src = \"https://d3js.org/d3.v4.min.js\"></script>\n",
              "   </head>\n",
              "\n",
              "   <body>\n",
              "      <div class = \"myclass\">\n",
              "         Hello Manal!\n",
              "      </div>\n",
              "\n",
              "      <script>\n",
              "         d3.select(\".myclass\").attr(\"style\", \"color: red\");\n",
              "      </script>\n",
              "   </body>\n",
              "</html>\n"
            ]
          },
          "metadata": {}
        }
      ]
    },
    {
      "cell_type": "markdown",
      "source": [
        "3. **style()** Method - used to set the style property of the selected elements."
      ],
      "metadata": {
        "id": "vCVYCMk9VR5W"
      }
    },
    {
      "cell_type": "code",
      "source": [
        "%%html\n",
        "<!DOCTYPE html>\n",
        "<html>\n",
        "   <head>\n",
        "      <script type = \"text/javascript\" src = \"https://d3js.org/d3.v4.min.js\"></script>\n",
        "   </head>\n",
        "\n",
        "   <body>\n",
        "      <div class = \"myclass\">\n",
        "         Hello World!\n",
        "      </div>\n",
        "\n",
        "      <script>\n",
        "         d3.select(\".myclass\").style(\"color\", \"red\");\n",
        "      </script>\n",
        "   </body>\n",
        "</html>"
      ],
      "metadata": {
        "colab": {
          "base_uri": "https://localhost:8080/",
          "height": 34
        },
        "id": "daj_BNbWVWTX",
        "outputId": "cd88297e-2aa7-48d9-eeb4-efc0f479e5e2"
      },
      "execution_count": 10,
      "outputs": [
        {
          "output_type": "display_data",
          "data": {
            "text/plain": [
              "<IPython.core.display.HTML object>"
            ],
            "text/html": [
              "<!DOCTYPE html>\n",
              "<html>\n",
              "   <head>\n",
              "      <script type = \"text/javascript\" src = \"https://d3js.org/d3.v4.min.js\"></script>\n",
              "   </head>\n",
              "\n",
              "   <body>\n",
              "      <div class = \"myclass\">\n",
              "         Hello World!\n",
              "      </div>\n",
              "\n",
              "      <script>\n",
              "         d3.select(\".myclass\").style(\"color\", \"red\");\n",
              "      </script>\n",
              "   </body>\n",
              "</html>\n"
            ]
          },
          "metadata": {}
        }
      ]
    },
    {
      "cell_type": "markdown",
      "source": [
        "**classed()** Method -\n",
        "1. exclusively used to set the “class” attribute of an HTML element.\n",
        "2. Since, a single HTML element can have multiple classes; we need to be careful while assigning a class to an HTML element.\n",
        "3. This method knows how to handle one or many classes on an element, and it will be performant."
      ],
      "metadata": {
        "id": "a9yg7JIoViXw"
      }
    },
    {
      "cell_type": "markdown",
      "source": [
        "1. Add class − To add a class, the second parameter of the classed method must be set to true.\n",
        "2. Remove class − To remove a class, the second parameter of the classed method must be set to false.\n",
        "3. Check class − To check for the existence of a class, just leave off the second parameter and pass the class name you are querying. This will return true, if it exists, false, if it does not.\n",
        "4. Toggle class − To flip a class to the opposite state – remove it if it exists already, add it if it does not yet exist – you can do one of the following."
      ],
      "metadata": {
        "id": "CBrAH7_OWPYY"
      }
    },
    {
      "cell_type": "code",
      "source": [
        "%%html\n",
        "<!--Add a class-->\n",
        "<!DOCTYPE html>\n",
        "<head>\n",
        "    <script src=\"https://d3js.org/d3.v4.min.js\">\n",
        "    </script>\n",
        "</head>\n",
        "  <body>\n",
        "    <div>\n",
        "        <p>Classed</p>\n",
        "    </div>\n",
        "      <script>\n",
        "          // Sets the class to the a tag\n",
        "        var a = d3.select(\"p\").classed(\"className\", true);\n",
        "        console.log(a);\n",
        "        d3.select(\".className\").classed(\"className\").text();\n",
        "    </script>\n",
        "</body>\n",
        "</html>"
      ],
      "metadata": {
        "colab": {
          "base_uri": "https://localhost:8080/",
          "height": 46
        },
        "id": "bMJd-2FGWlRn",
        "outputId": "5669092c-2f34-4779-ced8-9195b7a41424"
      },
      "execution_count": 11,
      "outputs": [
        {
          "output_type": "display_data",
          "data": {
            "text/plain": [
              "<IPython.core.display.HTML object>"
            ],
            "text/html": [
              "<!--Add a class-->\n",
              "<!DOCTYPE html>\n",
              "<head>\n",
              "    <script src=\"https://d3js.org/d3.v4.min.js\">\n",
              "    </script>\n",
              "</head>\n",
              "  <body>\n",
              "    <div>\n",
              "        <p>Classed</p>\n",
              "    </div>\n",
              "      <script>\n",
              "          // Sets the class to the a tag\n",
              "        var a = d3.select(\"p\").classed(\"className\", true);\n",
              "        console.log(a);\n",
              "        d3.select(\".className\").classed(\"className\").text();\n",
              "    </script>\n",
              "</body>\n",
              "</html>\n"
            ]
          },
          "metadata": {}
        }
      ]
    },
    {
      "cell_type": "code",
      "source": [
        "%%html\n",
        "<!--Remove a class and checking the existence of a class-->\n",
        "<!DOCTYPE html>\n",
        "<head>\n",
        "    <script src=\"https://d3js.org/d3.v4.min.js\">\n",
        "    </script>\n",
        "</head>\n",
        "  <body>\n",
        "    <div>\n",
        "        <p class=\"className\">Classed</p>\n",
        "    </div>\n",
        "      <script>\n",
        "          // Unsets the class to the a tag\n",
        "        d3.select(\".className\").classed(\"className\", false).text();\n",
        "\n",
        "        d3.select(\".className\").classed(\"className\").text();\n",
        "    </script>\n",
        "</body>\n",
        "</html>"
      ],
      "metadata": {
        "colab": {
          "base_uri": "https://localhost:8080/",
          "height": 46
        },
        "id": "SiX_lY4nY-iQ",
        "outputId": "a5742bd4-7f08-4b7f-f069-4b3e19236e72"
      },
      "execution_count": 12,
      "outputs": [
        {
          "output_type": "display_data",
          "data": {
            "text/plain": [
              "<IPython.core.display.HTML object>"
            ],
            "text/html": [
              "<!--Remove a class and checking the existence of a class-->\n",
              "<!DOCTYPE html>\n",
              "<head>\n",
              "    <script src=\"https://d3js.org/d3.v4.min.js\">\n",
              "    </script>\n",
              "</head>\n",
              "  <body>\n",
              "    <div>\n",
              "        <p class=\"className\">Classed</p>\n",
              "    </div>\n",
              "      <script>\n",
              "          // Unsets the class to the a tag\n",
              "        d3.select(\".className\").classed(\"className\", false).text();\n",
              "\n",
              "        d3.select(\".className\").classed(\"className\").text();\n",
              "    </script>\n",
              "</body>\n",
              "</html>\n"
            ]
          },
          "metadata": {}
        }
      ]
    },
    {
      "cell_type": "markdown",
      "source": [
        "**selectAll()** Method -\n",
        "1. used to select multiple elements in the HTML document.\n",
        "2. The select method selects the first element, but the selectAll method selects all the elements that match the specific selector string. In case the selection matches none, then it returns an empty selection.\n",
        "3. We can chain all the appending modifying methods, append(), html(), text(), attr(), style(), classed(), etc., in the selectAll() method as well. In this case, the methods will affect all the matching elements."
      ],
      "metadata": {
        "id": "bjWpwNVFblDf"
      }
    },
    {
      "cell_type": "code",
      "source": [
        "%%html\n",
        "<!DOCTYPE html>\n",
        "<html>\n",
        "   <head>\n",
        "      <script type = \"text/javascript\" src = \"https://d3js.org/d3.v4.min.js\"></script>\n",
        "   </head>\n",
        "\n",
        "   <body>\n",
        "      <h2 class = \"myclass\">Message</h2>\n",
        "      <div class = \"myclass\">\n",
        "         Hello World!\n",
        "      </div>\n",
        "\n",
        "      <script>\n",
        "         d3.selectAll(\".myclass\").attr(\"style\", \"color: red\");\n",
        "      </script>\n",
        "   </body>\n",
        "</html>"
      ],
      "metadata": {
        "colab": {
          "base_uri": "https://localhost:8080/",
          "height": 82
        },
        "id": "bnGKCbbvb7HP",
        "outputId": "07acd336-6ccc-40c2-ca79-17dc21d7e4ee"
      },
      "execution_count": 13,
      "outputs": [
        {
          "output_type": "display_data",
          "data": {
            "text/plain": [
              "<IPython.core.display.HTML object>"
            ],
            "text/html": [
              "<!DOCTYPE html>\n",
              "<html>\n",
              "   <head>\n",
              "      <script type = \"text/javascript\" src = \"https://d3js.org/d3.v4.min.js\"></script>\n",
              "   </head>\n",
              "\n",
              "   <body>\n",
              "      <h2 class = \"myclass\">Message</h2>\n",
              "      <div class = \"myclass\">\n",
              "         Hello World!\n",
              "      </div>\n",
              "\n",
              "      <script>\n",
              "         d3.selectAll(\".myclass\").attr(\"style\", \"color: red\");\n",
              "      </script>\n",
              "   </body>\n",
              "</html>\n"
            ]
          },
          "metadata": {}
        }
      ]
    },
    {
      "cell_type": "markdown",
      "source": [
        "**Data Join** -\n",
        "1. Data join enables us to inject, modify and remove elements (HTML element as well as embedded SVG elements) based on the data set in the existing HTML document.\n",
        "2. By default, each data item in the data set corresponds to an element (graphical) in the document.\n",
        "3. Data join makes manipulation of the elements based on the data set a very simple and easy process.\n",
        "4. The primary purpose of the Data join is to map the elements of the existing document with the given data set.\n",
        "5. It creates a virtual representation of the document with respect to the given data set and provides methods to work with the virtual representation."
      ],
      "metadata": {
        "id": "zwlVKq65cDJP"
      }
    },
    {
      "cell_type": "code",
      "source": [
        "%%html\n",
        "<!DOCTYPE html>\n",
        "<html>\n",
        "   <head>\n",
        "      <script type = \"text/javascript\" src = \"https://d3js.org/d3.v4.min.js\"></script>\n",
        "      <style>\n",
        "         body { font-family: Arial; }\n",
        "      </style>\n",
        "   </head>\n",
        "\n",
        "   <body>\n",
        "      <ul id = \"list\">\n",
        "         <li></li>\n",
        "         <li></li>\n",
        "      </ul>\n",
        "\n",
        "      <input type = \"button\" name = \"remove\" value = \"Remove fourth value\"\n",
        "         onclick = \"javascript:remove()\" />\n",
        "\n",
        "      <script>\n",
        "        /* The function in the text() method is used to get the li elements mapped data. Here, d represent 10\n",
        "        for first li element and 20 for second li element. */\n",
        "         d3.select(\"#list\").selectAll(\"li\")\n",
        "            .data([10, 20, 30, 25, 15])\n",
        "            .text(function(d)\n",
        "               { return \"This is pre-existing element and the value is \" + d; })\n",
        "            .enter()\n",
        "            .append(\"li\")\n",
        "            .text(function(d)\n",
        "               { return \"This is dynamically created element and the value is \" + d; });\n",
        "             //enter() method is used to create the missing elements and return the enter selection.\n",
        "         function remove() {\n",
        "            d3.selectAll(\"li\")\n",
        "            .data([10, 20, 30, 15])\n",
        "            .exit()\n",
        "            .remove()\n",
        "            //exit() method is used to process the data items removed dynamically from the data set.\n",
        "         }\n",
        "      </script>\n",
        "   </body>\n",
        "</html>"
      ],
      "metadata": {
        "colab": {
          "base_uri": "https://localhost:8080/",
          "height": 135
        },
        "id": "ouRkevM0cP2X",
        "outputId": "a307a92a-1978-4675-a5ef-851247f2f8a6"
      },
      "execution_count": 14,
      "outputs": [
        {
          "output_type": "display_data",
          "data": {
            "text/plain": [
              "<IPython.core.display.HTML object>"
            ],
            "text/html": [
              "<!DOCTYPE html>\n",
              "<html>\n",
              "   <head>\n",
              "      <script type = \"text/javascript\" src = \"https://d3js.org/d3.v4.min.js\"></script>\n",
              "      <style>\n",
              "         body { font-family: Arial; }\n",
              "      </style>\n",
              "   </head>\n",
              "\n",
              "   <body>\n",
              "      <ul id = \"list\">\n",
              "         <li></li>\n",
              "         <li></li>\n",
              "      </ul>\n",
              "\n",
              "      <input type = \"button\" name = \"remove\" value = \"Remove fourth value\"\n",
              "         onclick = \"javascript:remove()\" />\n",
              "\n",
              "      <script>\n",
              "        /* The function in the text() method is used to get the li elements mapped data. Here, d represent 10\n",
              "        for first li element and 20 for second li element. */\n",
              "         d3.select(\"#list\").selectAll(\"li\")\n",
              "            .data([10, 20, 30, 25, 15])\n",
              "            .text(function(d)\n",
              "               { return \"This is pre-existing element and the value is \" + d; })\n",
              "            .enter()\n",
              "            .append(\"li\")\n",
              "            .text(function(d)\n",
              "               { return \"This is dynamically created element and the value is \" + d; });\n",
              "             //enter() method is used to create the missing elements and return the enter selection.\n",
              "         function remove() {\n",
              "            d3.selectAll(\"li\")\n",
              "            .data([10, 20, 30, 15])\n",
              "            .exit()\n",
              "            .remove()\n",
              "            //exit() method is used to process the data items removed dynamically from the data set.\n",
              "         }\n",
              "      </script>\n",
              "   </body>\n",
              "</html>\n"
            ]
          },
          "metadata": {}
        }
      ]
    },
    {
      "cell_type": "markdown",
      "source": [
        "**Scalable Vector Graphics** :-\n",
        "1. SVG stands for Scalable Vector Graphics. It is an XML-based vector graphics format.\n",
        "2. It provides options to draw different shapes such as Lines, Rectangles, Circles, Ellipses, etc.\n",
        "3. Hence, designing visualizations with SVG gives you more power and flexibility.\n",
        "\n",
        "**Features of SVG** -\n",
        "1. SVG is a vector based image format and it is text-based.\n",
        "2. SVG is similar in structure to HTML.\n",
        "3. SVG can be represented as a Document object model.\n",
        "4. SVG properties can be specified as attributes.\n",
        "5. SVG should have absolute positions relative to the origin (0,0).\n",
        "6. SVG can be included as is in the HTML document."
      ],
      "metadata": {
        "id": "W_fnVhYlqjwF"
      }
    },
    {
      "cell_type": "code",
      "source": [
        "%%html\n",
        "<!DOCTYPE html>\n",
        "<!--Creation of Line-->\n",
        "<html>\n",
        "   <head>\n",
        "      <script type = \"text/javascript\" src = \"https://d3js.org/d3.v4.min.js\"></script>\n",
        "      <style>\n",
        "         body { font-family: Arial; }\n",
        "      </style>\n",
        "   </head>\n",
        "\n",
        "   <body>\n",
        "      <div id = \"svgcontainer\">\n",
        "      </div>\n",
        "      <script language = \"javascript\">\n",
        "         var width = 250;\n",
        "         var height = 250;\n",
        "         var svg = d3.select(\"#svgcontainer\")\n",
        "            .append(\"svg\")\n",
        "            .attr(\"width\", width)\n",
        "            .attr(\"height\", height);\n",
        "         svg.append(\"line\")\n",
        "            .attr(\"x1\", 100)\n",
        "            .attr(\"y1\", 100)\n",
        "            .attr(\"x2\", 200)\n",
        "            .attr(\"y2\", 200)\n",
        "            .style(\"stroke\", \"rgb(255,0,0)\")\n",
        "            .style(\"stroke-width\", 2);\n",
        "      </script>\n",
        "   </body>\n",
        "</html>"
      ],
      "metadata": {
        "colab": {
          "base_uri": "https://localhost:8080/",
          "height": 272
        },
        "id": "6Pg6qNWRqnUT",
        "outputId": "2dfb6733-0ec3-443f-abc8-9a7d259d2e9e"
      },
      "execution_count": 15,
      "outputs": [
        {
          "output_type": "display_data",
          "data": {
            "text/plain": [
              "<IPython.core.display.HTML object>"
            ],
            "text/html": [
              "<!DOCTYPE html>\n",
              "<!--Creation of Line-->\n",
              "<html>\n",
              "   <head>\n",
              "      <script type = \"text/javascript\" src = \"https://d3js.org/d3.v4.min.js\"></script>\n",
              "      <style>\n",
              "         body { font-family: Arial; }\n",
              "      </style>\n",
              "   </head>\n",
              "\n",
              "   <body>\n",
              "      <div id = \"svgcontainer\">\n",
              "      </div>\n",
              "      <script language = \"javascript\">\n",
              "         var width = 250;\n",
              "         var height = 250;\n",
              "         var svg = d3.select(\"#svgcontainer\")\n",
              "            .append(\"svg\")\n",
              "            .attr(\"width\", width)\n",
              "            .attr(\"height\", height);\n",
              "         svg.append(\"line\")\n",
              "            .attr(\"x1\", 100)\n",
              "            .attr(\"y1\", 100)\n",
              "            .attr(\"x2\", 200)\n",
              "            .attr(\"y2\", 200)\n",
              "            .style(\"stroke\", \"rgb(255,0,0)\")\n",
              "            .style(\"stroke-width\", 2);\n",
              "      </script>\n",
              "   </body>\n",
              "</html>\n"
            ]
          },
          "metadata": {}
        }
      ]
    },
    {
      "cell_type": "code",
      "source": [
        "%%html\n",
        "<!DOCTYPE html>\n",
        "<!--Rectangle-->\n",
        "<html>\n",
        "   <head>\n",
        "      <script type = \"text/javascript\" src = \"https://d3js.org/d3.v4.min.js\"></script>\n",
        "   </head>\n",
        "\n",
        "   <body>\n",
        "      <div id = \"svgcontainer\"></div>\n",
        "      <script>\n",
        "         var width = 300;\n",
        "         var height = 150;\n",
        "         //Create SVG element\n",
        "         var svg = d3.select(\"#svgcontainer\")\n",
        "            .append(\"svg\")\n",
        "            .attr(\"width\", width)\n",
        "            .attr(\"height\", height);\n",
        "         //Create and append rectangle element\n",
        "         svg.append(\"rect\")\n",
        "            .attr(\"x\", 20)\n",
        "            .attr(\"y\", 20)\n",
        "            .attr(\"width\", 200)\n",
        "            .attr(\"height\", 100)\n",
        "            .attr(\"fill\", \"green\");\n",
        "      </script>\n",
        "   </body>\n",
        "</html>"
      ],
      "metadata": {
        "colab": {
          "base_uri": "https://localhost:8080/",
          "height": 172
        },
        "id": "aP62FSJlqrme",
        "outputId": "8f9b7022-cd3e-4388-86b4-4c48181bf55d"
      },
      "execution_count": 16,
      "outputs": [
        {
          "output_type": "display_data",
          "data": {
            "text/plain": [
              "<IPython.core.display.HTML object>"
            ],
            "text/html": [
              "<!DOCTYPE html>\n",
              "<!--Rectangle-->\n",
              "<html>\n",
              "   <head>\n",
              "      <script type = \"text/javascript\" src = \"https://d3js.org/d3.v4.min.js\"></script>\n",
              "   </head>\n",
              "\n",
              "   <body>\n",
              "      <div id = \"svgcontainer\"></div>\n",
              "      <script>\n",
              "         var width = 300;\n",
              "         var height = 150;\n",
              "         //Create SVG element\n",
              "         var svg = d3.select(\"#svgcontainer\")\n",
              "            .append(\"svg\")\n",
              "            .attr(\"width\", width)\n",
              "            .attr(\"height\", height);\n",
              "         //Create and append rectangle element\n",
              "         svg.append(\"rect\")\n",
              "            .attr(\"x\", 20)\n",
              "            .attr(\"y\", 20)\n",
              "            .attr(\"width\", 200)\n",
              "            .attr(\"height\", 100)\n",
              "            .attr(\"fill\", \"green\");\n",
              "      </script>\n",
              "   </body>\n",
              "</html>\n"
            ]
          },
          "metadata": {}
        }
      ]
    },
    {
      "cell_type": "code",
      "source": [
        "%%html\n",
        "<!DOCTYPE html>\n",
        "<html>\n",
        "   <head>\n",
        "      <script type = \"text/javascript\" src = \"https://d3js.org/d3.v4.min.js\"></script>\n",
        "   </head>\n",
        "  <!--Circle-->\n",
        "   <body>\n",
        "      <div id = \"svgcontainer\"></div>\n",
        "      <script>\n",
        "         var width = 300;\n",
        "         var height = 200;\n",
        "         //Create SVG element\n",
        "         var svg = d3.select(\"#svgcontainer\")\n",
        "            .append(\"svg\")\n",
        "            .attr(\"width\", width)\n",
        "            .attr(\"height\", height);\n",
        "         //Append circle\n",
        "         svg.append(\"circle\")\n",
        "            .attr(\"cx\", 200)\n",
        "            .attr(\"cy\", 90)\n",
        "            .attr(\"r\", 60)\n",
        "            .attr(\"fill\", \"green\");\n",
        "      </script>\n",
        "   </body>\n",
        "</html>"
      ],
      "metadata": {
        "colab": {
          "base_uri": "https://localhost:8080/",
          "height": 222
        },
        "id": "2TTNbFfbquQa",
        "outputId": "a8d50eee-7bca-4cb1-d1b6-17e20f36b7f6"
      },
      "execution_count": 17,
      "outputs": [
        {
          "output_type": "display_data",
          "data": {
            "text/plain": [
              "<IPython.core.display.HTML object>"
            ],
            "text/html": [
              "<!DOCTYPE html>\n",
              "<html>\n",
              "   <head>\n",
              "      <script type = \"text/javascript\" src = \"https://d3js.org/d3.v4.min.js\"></script>\n",
              "   </head>\n",
              "  <!--Circle-->\n",
              "   <body>\n",
              "      <div id = \"svgcontainer\"></div>\n",
              "      <script>\n",
              "         var width = 300;\n",
              "         var height = 200;\n",
              "         //Create SVG element\n",
              "         var svg = d3.select(\"#svgcontainer\")\n",
              "            .append(\"svg\")\n",
              "            .attr(\"width\", width)\n",
              "            .attr(\"height\", height);\n",
              "         //Append circle\n",
              "         svg.append(\"circle\")\n",
              "            .attr(\"cx\", 200)\n",
              "            .attr(\"cy\", 90)\n",
              "            .attr(\"r\", 60)\n",
              "            .attr(\"fill\", \"green\");\n",
              "      </script>\n",
              "   </body>\n",
              "</html>\n"
            ]
          },
          "metadata": {}
        }
      ]
    },
    {
      "cell_type": "code",
      "source": [
        "%%html\n",
        "<html>\n",
        "   <head>\n",
        "      <script type = \"text/javascript\" src = \"https://d3js.org/d3.v4.min.js\"></script>\n",
        "   </head>\n",
        "  <!--Ellipse-->\n",
        "   <body>\n",
        "      <div id = \"svgcontainer\"></div>\n",
        "      <script>\n",
        "         var width = 300;\n",
        "         var height = 100;\n",
        "         var svg = d3.select(\"#svgcontainer\")\n",
        "            .append(\"svg\")\n",
        "            .attr(\"width\", width)\n",
        "            .attr(\"height\", height);\n",
        "         svg.append(\"ellipse\")\n",
        "            .attr(\"cx\", 200)\n",
        "            .attr(\"cy\", 50)\n",
        "            .attr(\"rx\", 100)\n",
        "            .attr(\"ry\", 50)\n",
        "            .attr(\"fill\", \"green\")\n",
        "      </script>\n",
        "   </body>\n",
        "</html>"
      ],
      "metadata": {
        "colab": {
          "base_uri": "https://localhost:8080/",
          "height": 122
        },
        "id": "GS4siIMBqyrC",
        "outputId": "3bc2873d-1e85-4da3-93eb-bb8f55a9ce48"
      },
      "execution_count": 18,
      "outputs": [
        {
          "output_type": "display_data",
          "data": {
            "text/plain": [
              "<IPython.core.display.HTML object>"
            ],
            "text/html": [
              "<html>\n",
              "   <head>\n",
              "      <script type = \"text/javascript\" src = \"https://d3js.org/d3.v4.min.js\"></script>\n",
              "   </head>\n",
              "  <!--Ellipse-->\n",
              "   <body>\n",
              "      <div id = \"svgcontainer\"></div>\n",
              "      <script>\n",
              "         var width = 300;\n",
              "         var height = 100;\n",
              "         var svg = d3.select(\"#svgcontainer\")\n",
              "            .append(\"svg\")\n",
              "            .attr(\"width\", width)\n",
              "            .attr(\"height\", height);\n",
              "         svg.append(\"ellipse\")\n",
              "            .attr(\"cx\", 200)\n",
              "            .attr(\"cy\", 50)\n",
              "            .attr(\"rx\", 100)\n",
              "            .attr(\"ry\", 50)\n",
              "            .attr(\"fill\", \"green\")\n",
              "      </script>\n",
              "   </body>\n",
              "</html>\n"
            ]
          },
          "metadata": {}
        }
      ]
    },
    {
      "cell_type": "markdown",
      "source": [
        "SVG introduces a new attribute, transform to support transformation. The possible values are one or more of the following :\n",
        "1. **Translate** − It takes two options, tx refers translation along the x-axis and ty refers to the translation along the y-axis. For Example− translate(30 30).\n",
        "\n",
        "2. **Rotate** − It takes three options, angle refers rotation angle, cx and cy refers to the center of the rotation in the x and y axis. If cx and cy are not specified, then it defaults to the current origin of the coordinate system. For Example − rotate(60).\n",
        "\n",
        "3. **Scale** − It takes two options, sx refers to the scaling factor along the x-axis and sy refers to the scaling factor along the y-axis. Here, sy is optional and it takes the value of sx, if it is not specified. For Example − scale(10).\n",
        "\n",
        "4. **Skew** (SkewX and SkewY) − It takes a single option; the skew-angle refers to the angle along the x-axis for SkewX and the angle along the y-axis for SkewY. For Example − skewx(20)."
      ],
      "metadata": {
        "id": "_IzNh9woq3Rk"
      }
    },
    {
      "cell_type": "code",
      "source": [
        "%%html\n",
        "<html>\n",
        "   <head>\n",
        "      <script type = \"text/javascript\" src = \"https://d3js.org/d3.v4.min.js\"></script>\n",
        "   </head>\n",
        "\n",
        "   <body>\n",
        "      <svg width = \"300\" height = \"200\">\n",
        "         <rect x = \"20\"\n",
        "            y = \"20\"\n",
        "            width = \"60\"\n",
        "            height = \"60\"\n",
        "            fill = \"green\"\n",
        "            transform = \"translate(60 60) rotate(45)\">\n",
        "         </rect>\n",
        "      </svg>\n",
        "   </body>\n",
        "</html>"
      ],
      "metadata": {
        "colab": {
          "base_uri": "https://localhost:8080/",
          "height": 222
        },
        "id": "f1rJNl4Xq0mR",
        "outputId": "6be636ce-eaab-4243-fbd9-1eb61d9ec0c9"
      },
      "execution_count": 19,
      "outputs": [
        {
          "output_type": "display_data",
          "data": {
            "text/plain": [
              "<IPython.core.display.HTML object>"
            ],
            "text/html": [
              "<html>\n",
              "   <head>\n",
              "      <script type = \"text/javascript\" src = \"https://d3js.org/d3.v4.min.js\"></script>\n",
              "   </head>\n",
              "\n",
              "   <body>\n",
              "      <svg width = \"300\" height = \"200\">\n",
              "         <rect x = \"20\"\n",
              "            y = \"20\"\n",
              "            width = \"60\"\n",
              "            height = \"60\"\n",
              "            fill = \"green\"\n",
              "            transform = \"translate(60 60) rotate(45)\">\n",
              "         </rect>\n",
              "      </svg>\n",
              "   </body>\n",
              "</html>\n"
            ]
          },
          "metadata": {}
        }
      ]
    },
    {
      "cell_type": "code",
      "source": [
        "%%html\n",
        "<!DOCTYPE html>\n",
        "<html lang = \"en\">\n",
        "   <head>\n",
        "      <title>SVG rectangle</title>\n",
        "      <script type = \"text/javascript\" src = \"https://d3js.org/d3.v4.min.js\"></script>\n",
        "      <style>\n",
        "         body { font-family: Arial; }\n",
        "      </style>\n",
        "   </head>\n",
        "\n",
        "   <body>\n",
        "      <div id = \"svgcontainer\"></div>\n",
        "         <script language = \"javascript\">\n",
        "            var width = 300;\n",
        "            var height = 150;\n",
        "            var svg = d3.select(\"#svgcontainer\")\n",
        "               .append(\"svg\")\n",
        "               .attr(\"width\", width)\n",
        "               .attr(\"height\", height);\n",
        "\n",
        "            var group = svg.append(\"g\")\n",
        "               .attr(\"transform\", \"translate(60, 60) rotate(30)\");\n",
        "\n",
        "            var rect = group.append(\"rect\")\n",
        "               .attr(\"x\", 20)\n",
        "               .attr(\"y\", 20)\n",
        "               .attr(\"width\", 60)\n",
        "               .attr(\"height\", 30)\n",
        "               .attr(\"fill\", \"green\")\n",
        "\n",
        "            var circle = group\n",
        "               .append(\"circle\")\n",
        "               .attr(\"cx\", 0)\n",
        "               .attr(\"cy\", 0)\n",
        "               .attr(\"r\", 30)\n",
        "               .attr(\"fill\", \"red\")\n",
        "         </script>\n",
        "      </div>\n",
        "   </body>\n",
        "</html>"
      ],
      "metadata": {
        "colab": {
          "base_uri": "https://localhost:8080/",
          "height": 172
        },
        "id": "Xb6KelJIq8PT",
        "outputId": "092adae7-22e1-4f00-fb7a-b29fc852d3a3"
      },
      "execution_count": 20,
      "outputs": [
        {
          "output_type": "display_data",
          "data": {
            "text/plain": [
              "<IPython.core.display.HTML object>"
            ],
            "text/html": [
              "<!DOCTYPE html>\n",
              "<html lang = \"en\">\n",
              "   <head>\n",
              "      <title>SVG rectangle</title>\n",
              "      <script type = \"text/javascript\" src = \"https://d3js.org/d3.v4.min.js\"></script>\n",
              "      <style>\n",
              "         body { font-family: Arial; }\n",
              "      </style>\n",
              "   </head>\n",
              "\n",
              "   <body>\n",
              "      <div id = \"svgcontainer\"></div>\n",
              "         <script language = \"javascript\">\n",
              "            var width = 300;\n",
              "            var height = 150;\n",
              "            var svg = d3.select(\"#svgcontainer\")\n",
              "               .append(\"svg\")\n",
              "               .attr(\"width\", width)\n",
              "               .attr(\"height\", height);\n",
              "\n",
              "            var group = svg.append(\"g\")\n",
              "               .attr(\"transform\", \"translate(60, 60) rotate(30)\");\n",
              "\n",
              "            var rect = group.append(\"rect\")\n",
              "               .attr(\"x\", 20)\n",
              "               .attr(\"y\", 20)\n",
              "               .attr(\"width\", 60)\n",
              "               .attr(\"height\", 30)\n",
              "               .attr(\"fill\", \"green\")\n",
              "\n",
              "            var circle = group\n",
              "               .append(\"circle\")\n",
              "               .attr(\"cx\", 0)\n",
              "               .attr(\"cy\", 0)\n",
              "               .attr(\"r\", 30)\n",
              "               .attr(\"fill\", \"red\")\n",
              "         </script>\n",
              "      </div>\n",
              "   </body>\n",
              "</html>\n"
            ]
          },
          "metadata": {}
        }
      ]
    },
    {
      "cell_type": "markdown",
      "source": [
        "**transition() method** -\n",
        "1. Transition is the process of changing from one state to another of an item.\n",
        "2. It is available for all selectors and starts the transition process.\n",
        "3. This method supports most of the selection methods such as – attr(), style(), etc.\n",
        "4. But, It does not support the append() and the data() methods, which need to be called before the transition() method.\n",
        "5. It also provides methods specific to transition like duration(), ease(), etc."
      ],
      "metadata": {
        "id": "XZOfcm8ZsNVF"
      }
    },
    {
      "cell_type": "code",
      "source": [
        "%%html\n",
        "<!DOCTYPE html>\n",
        "<html>\n",
        "   <head>\n",
        "      <script type = \"text/javascript\" src = \"https://d3js.org/d3.v4.min.js\"></script>\n",
        "   </head>\n",
        "\n",
        "   <body>\n",
        "      <h3>Simple transitions</h3>\n",
        "      <script>\n",
        "         d3.select(\"body\").transition().style(\"background-color\", \"lightblue\");\n",
        "      </script>\n",
        "   </body>\n",
        "</html>"
      ],
      "metadata": {
        "colab": {
          "base_uri": "https://localhost:8080/",
          "height": 58
        },
        "id": "NxqcsJsHsN6F",
        "outputId": "643637b5-5204-4523-fa96-02536b1fc954"
      },
      "execution_count": 21,
      "outputs": [
        {
          "output_type": "display_data",
          "data": {
            "text/plain": [
              "<IPython.core.display.HTML object>"
            ],
            "text/html": [
              "<!DOCTYPE html>\n",
              "<html>\n",
              "   <head>\n",
              "      <script type = \"text/javascript\" src = \"https://d3js.org/d3.v4.min.js\"></script>\n",
              "   </head>\n",
              "\n",
              "   <body>\n",
              "      <h3>Simple transitions</h3>\n",
              "      <script>\n",
              "         d3.select(\"body\").transition().style(\"background-color\", \"lightblue\");\n",
              "      </script>\n",
              "   </body>\n",
              "</html>\n"
            ]
          },
          "metadata": {}
        }
      ]
    },
    {
      "cell_type": "markdown",
      "source": [
        "*Animation in D3* :-\n",
        "1. D3.js supports animation through transition. We can do animation with proper use of transition.\n",
        "2. Transitions are a limited form of Key Frame Animation with only two key frames – start and end.\n",
        "3. The starting key frame is typically the current state of the DOM, and the ending key frame is a set of attributes, styles and other properties you specify.\n",
        "4. Transitions are well suited for transitioning to a new view without a complicated code that depends on the starting view.\n",
        "\n",
        "**duration()** method - The duration() method allows property changes to occur smoothly over a specified duration rather than instantaneously.\n",
        "\n",
        "To get the accurate blending of in-between frames from the start frame value to the end frame value, D3.js uses an internal interpolate method.\n",
        "\n",
        "The syntax is −\n",
        "d3.interpolate(a, b)\n",
        "\n",
        "D3 also supports the following interpolation types −\n",
        "\n",
        "1. interpolateNumber − support numerical values.\n",
        "2. interpolateRgb − support colors.\n",
        "3. interpolateString − support string.\n",
        "\n",
        "D3.js takes care of using the proper interpolate method and in advanced cases, we can use the interpolate methods directly to get our desired result.\n",
        "\n",
        "**delay()** method - The delay() method allows a transition to take place after a certain period of time."
      ],
      "metadata": {
        "id": "baCuz6YYs515"
      }
    },
    {
      "cell_type": "code",
      "source": [
        "#Animation by duration\n",
        "%%html\n",
        "<!DOCTYPE html>\n",
        "<html>\n",
        "   <head>\n",
        "      <script type = \"text/javascript\" src = \"https://d3js.org/d3.v4.min.js\"></script>\n",
        "   </head>\n",
        "\n",
        "   <body>\n",
        "      <h3>Simple transitions</h3>\n",
        "      <script>\n",
        "         d3.selectAll(\"h3\").transition().style(\"color\",\"rgb(0,150,120)\").duration(5000);\n",
        "      </script>\n",
        "   </body>\n",
        "</html>"
      ],
      "metadata": {
        "colab": {
          "base_uri": "https://localhost:8080/",
          "height": 58
        },
        "id": "dV919QM6ttNb",
        "outputId": "31b78a8f-3d1a-4b9c-f4f8-95b14ae47256"
      },
      "execution_count": 22,
      "outputs": [
        {
          "output_type": "display_data",
          "data": {
            "text/plain": [
              "<IPython.core.display.HTML object>"
            ],
            "text/html": [
              "<!DOCTYPE html>\n",
              "<html>\n",
              "   <head>\n",
              "      <script type = \"text/javascript\" src = \"https://d3js.org/d3.v4.min.js\"></script>\n",
              "   </head>\n",
              "\n",
              "   <body>\n",
              "      <h3>Simple transitions</h3>\n",
              "      <script>\n",
              "         d3.selectAll(\"h3\").transition().style(\"color\",\"rgb(0,150,120)\").duration(5000);\n",
              "      </script>\n",
              "   </body>\n",
              "</html>\n"
            ]
          },
          "metadata": {}
        }
      ]
    },
    {
      "cell_type": "code",
      "source": [
        "#Animation by Delay\n",
        "%%html\n",
        "<!DOCTYPE html>\n",
        "<html>\n",
        "   <head>\n",
        "      <script type = \"text/javascript\" src = \"https://d3js.org/d3.v4.min.js\"></script>\n",
        "   </head>\n",
        "\n",
        "   <body>\n",
        "      <h3> Simple transitions </h3>\n",
        "      <script>\n",
        "         d3.selectAll(\"h3\").transition()\n",
        "            .style(\"font-size\",\"100px\").delay(2000).duration(2000);\n",
        "      </script>\n",
        "   </body>\n",
        "</html>"
      ],
      "metadata": {
        "colab": {
          "base_uri": "https://localhost:8080/",
          "height": 245
        },
        "id": "OymGinbht-Yt",
        "outputId": "196976d0-68ff-4c0b-9eae-c97c3dd27b9a"
      },
      "execution_count": 23,
      "outputs": [
        {
          "output_type": "display_data",
          "data": {
            "text/plain": [
              "<IPython.core.display.HTML object>"
            ],
            "text/html": [
              "<!DOCTYPE html>\n",
              "<html>\n",
              "   <head>\n",
              "      <script type = \"text/javascript\" src = \"https://d3js.org/d3.v4.min.js\"></script>\n",
              "   </head>\n",
              "\n",
              "   <body>\n",
              "      <h3> Simple transitions </h3>\n",
              "      <script>\n",
              "         d3.selectAll(\"h3\").transition()\n",
              "            .style(\"font-size\",\"100px\").delay(2000).duration(2000);\n",
              "      </script>\n",
              "   </body>\n",
              "</html>\n"
            ]
          },
          "metadata": {}
        }
      ]
    },
    {
      "cell_type": "markdown",
      "source": [
        "*Lifecycle of Transition* :-\n",
        "1. **The transition is scheduled** - A transition is scheduled when it is created. When we call selection.transition, we are scheduling a transition. This is also when we call attr(), style() and other transition methods to define the ending key frame.\n",
        "2. **The Transition Starts** - A transition starts based on its delay, which was specified when the transition was scheduled. If no delay was specified, then the transition starts as soon as possible, which is typically after a few milliseconds.\n",
        "\n",
        "3. **The Transition Runs** - When the transition runs, it repeatedly invoked with values of transition ranging from 0 to 1. In addition to delay and duration, transitions have easing to control timing. Easing distorts time, such as for slow-in and slow-out. Some easing functions may temporarily give values of t greater than 1 or less than 0.\n",
        "\n",
        "4. **The Transition Ends** - The transition ending time is always exactly 1, so that the ending value is set exactly when the transition ends. A transition ends based on the sum of its delay and duration. When a transition ends, the end event is dispatched."
      ],
      "metadata": {
        "id": "r_TXtDp1usl-"
      }
    },
    {
      "cell_type": "markdown",
      "source": [
        "**Experiment 9 :- Creating World Map using D3.js**\n",
        "\n",
        "d3-geomap is a library for creating geographic maps that are rendered in a Web browser.\n",
        "\n",
        "d3-geomap is written in JavaScript using features introduced in EcmaScript 6 and later and built on top of D3.js.\n",
        "\n",
        "The 3 concepts that are key to understanding map creation using D3 are:\n",
        "\n",
        "1. **GeoJSON** - a JSON-based format for specifying geographic data\n",
        "2. **projections** - functions that convert from latitude/longitude co-ordinates to x & y co-ordinates\n",
        "3. **geographic path generators** - functions that convert GeoJSON shapes into SVG or Canvas paths"
      ],
      "metadata": {
        "id": "Vgd0Jzi80eXQ"
      }
    },
    {
      "cell_type": "code",
      "source": [
        "%%html\n",
        "<!DOCTYPE html>\n",
        "<html lang=\"en\">\n",
        "<head>\n",
        "  <meta charset=\"UTF-8\">\n",
        "  <meta name=\"viewport\" content=\"width=device-width, initial-scale=1.0\">\n",
        "  <title>World Map</title>\n",
        "  <script src=\"https://d3js.org/d3.v7.min.js\"></script>\n",
        "  <script src=\"https://d3js.org/topojson.v3.min.js\"></script>\n",
        "  <style>\n",
        "    svg {\n",
        "      width: 100%;\n",
        "      height: auto;\n",
        "      display: block;\n",
        "    }\n",
        "  </style>\n",
        "</head>\n",
        "<body>\n",
        "  <svg id=\"world-map\"></svg>\n",
        "  <script>\n",
        "    const svg = d3.select(\"#world-map\");\n",
        "    // Define the projection\n",
        "    const projection = d3.geoNaturalEarth1();\n",
        "    // Define path generator\n",
        "    const path = d3.geoPath().projection(projection);\n",
        "    // Load world map data\n",
        "    d3.json(\"https://raw.githubusercontent.com/d3/d3.github.com/master/world-110m.v1.json\").then(function(world) {\n",
        "      // Get the bounding box of the map\n",
        "      const bounds = path.bounds(topojson.feature(world, world.objects.countries));\n",
        "      // Set the viewBox attribute based on the bounds\n",
        "      svg.attr(\"viewBox\", [bounds[0][0], bounds[0][1], bounds[1][0] - bounds[0][0], bounds[1][1] - bounds[0][1]]);\n",
        "      // Render the map\n",
        "      svg.selectAll(\"path\")\n",
        "        .data(topojson.feature(world, world.objects.countries).features)\n",
        "        .enter().append(\"path\")\n",
        "        .attr(\"d\", path)\n",
        "        .attr(\"fill\", \"lightgray\")\n",
        "        .attr(\"stroke\", \"white\")\n",
        "        .attr(\"stroke-width\", 0.5);\n",
        "    });\n",
        "  </script>\n",
        "</body>\n",
        "</html>"
      ],
      "metadata": {
        "colab": {
          "base_uri": "https://localhost:8080/",
          "height": 749
        },
        "id": "enCPWz9lyAzK",
        "outputId": "3f34551a-5605-48a6-8e73-a17c8c194b93"
      },
      "execution_count": 24,
      "outputs": [
        {
          "output_type": "display_data",
          "data": {
            "text/plain": [
              "<IPython.core.display.HTML object>"
            ],
            "text/html": [
              "<!DOCTYPE html>\n",
              "<html lang=\"en\">\n",
              "<head>\n",
              "  <meta charset=\"UTF-8\">\n",
              "  <meta name=\"viewport\" content=\"width=device-width, initial-scale=1.0\">\n",
              "  <title>World Map</title>\n",
              "  <script src=\"https://d3js.org/d3.v7.min.js\"></script>\n",
              "  <script src=\"https://d3js.org/topojson.v3.min.js\"></script>\n",
              "  <style>\n",
              "    svg {\n",
              "      width: 100%;\n",
              "      height: auto;\n",
              "      display: block;\n",
              "    }\n",
              "  </style>\n",
              "</head>\n",
              "<body>\n",
              "  <svg id=\"world-map\"></svg>\n",
              "  <script>\n",
              "    const svg = d3.select(\"#world-map\");\n",
              "    // Define the projection\n",
              "    const projection = d3.geoNaturalEarth1();\n",
              "    // Define path generator\n",
              "    const path = d3.geoPath().projection(projection);\n",
              "    // Load world map data\n",
              "    d3.json(\"https://raw.githubusercontent.com/d3/d3.github.com/master/world-110m.v1.json\").then(function(world) {\n",
              "      // Get the bounding box of the map\n",
              "      const bounds = path.bounds(topojson.feature(world, world.objects.countries));\n",
              "      // Set the viewBox attribute based on the bounds\n",
              "      svg.attr(\"viewBox\", [bounds[0][0], bounds[0][1], bounds[1][0] - bounds[0][0], bounds[1][1] - bounds[0][1]]);\n",
              "      // Render the map\n",
              "      svg.selectAll(\"path\")\n",
              "        .data(topojson.feature(world, world.objects.countries).features)\n",
              "        .enter().append(\"path\")\n",
              "        .attr(\"d\", path)\n",
              "        .attr(\"fill\", \"lightgray\")\n",
              "        .attr(\"stroke\", \"white\")\n",
              "        .attr(\"stroke-width\", 0.5);\n",
              "    });\n",
              "  </script>\n",
              "</body>\n",
              "</html>\n"
            ]
          },
          "metadata": {}
        }
      ]
    },
    {
      "cell_type": "markdown",
      "source": [
        "**Experiment 10 :- Event handling in D3**\n",
        "\n",
        "Syntax -->\n",
        "*d3.selection.on(type[, listener[, capture]]);*\n",
        "\n",
        "Event types and their descriptions :-\n",
        "1. **zoom** - selection is being panned and zoomed\n",
        "2. **click** - selection got clicked\n",
        "3. **mouseover** -\tmouse pointer moves over a selection\n",
        "4. **mouseout** - mouse pointer leaves a slection\n",
        "\n",
        "Event Methods\tand their Descriptions :\n",
        "1. **selection.on()** - Add or remove event listeners to capture event types like click, mouseover, mouseout etc.\n",
        "2. **selection.dispatch()** - Captures event types like click, mouseover, mouseout. Typenames is the eventname, listener is the event listener\n",
        "3. **d3.event** - Event object to access standard event fields such as timestamp or methods like preventDefault\n",
        "4. **d3.mouse(container)** - Gets the x and y coordinates of the current mouse position in the specified DOM element.\n",
        "5. **d3.touch()** - Gets the touch coordinates to a container"
      ],
      "metadata": {
        "id": "L3q1Nnpd1KAU"
      }
    },
    {
      "cell_type": "code",
      "source": [
        "%%html\n",
        "<!--Event Handling-->\n",
        "<!doctype html>\n",
        "<html>\n",
        "<head>\n",
        "    <style>\n",
        "        div {\n",
        "            height: 100px;\n",
        "            width: 100px;\n",
        "            background-color: steelblue;\n",
        "            margin:5px;\n",
        "        }\n",
        "    </style>\n",
        "    <script src=\"https://d3js.org/d3.v4.min.js\"></script>\n",
        "</head>\n",
        "<body>\n",
        "<div> </div>\n",
        "<script>\n",
        "    d3.selectAll(\"div\")\n",
        "      .on(\"mouseover\", function(){\n",
        "          d3.select(this)\n",
        "            .style(\"background-color\", \"orange\");\n",
        "\n",
        "          // Get current event info\n",
        "          console.log(d3.event);\n",
        "\n",
        "          // Get x & y co-ordinates\n",
        "          console.log(d3.mouse(this));\n",
        "      })\n",
        "      .on(\"mouseout\", function(){\n",
        "          d3.select(this)\n",
        "            .style(\"background-color\", \"steelblue\")\n",
        "      });\n",
        "</script>\n",
        "</body>\n",
        "</html>"
      ],
      "metadata": {
        "colab": {
          "base_uri": "https://localhost:8080/",
          "height": 127
        },
        "id": "k3ucwODI1JeF",
        "outputId": "d99239e6-6801-4d0f-b312-3c9dd4817b52"
      },
      "execution_count": 25,
      "outputs": [
        {
          "output_type": "display_data",
          "data": {
            "text/plain": [
              "<IPython.core.display.HTML object>"
            ],
            "text/html": [
              "<!--Event Handling-->\n",
              "<!doctype html>\n",
              "<html>\n",
              "<head>\n",
              "    <style>\n",
              "        div {\n",
              "            height: 100px;\n",
              "            width: 100px;\n",
              "            background-color: steelblue;\n",
              "            margin:5px;\n",
              "        }\n",
              "    </style>\n",
              "    <script src=\"https://d3js.org/d3.v4.min.js\"></script>\n",
              "</head>\n",
              "<body>\n",
              "<div> </div>\n",
              "<script>\n",
              "    d3.selectAll(\"div\")\n",
              "      .on(\"mouseover\", function(){\n",
              "          d3.select(this)\n",
              "            .style(\"background-color\", \"orange\");\n",
              "\n",
              "          // Get current event info\n",
              "          console.log(d3.event);\n",
              "\n",
              "          // Get x & y co-ordinates\n",
              "          console.log(d3.mouse(this));\n",
              "      })\n",
              "      .on(\"mouseout\", function(){\n",
              "          d3.select(this)\n",
              "            .style(\"background-color\", \"steelblue\")\n",
              "      });\n",
              "</script>\n",
              "</body>\n",
              "</html>\n"
            ]
          },
          "metadata": {}
        }
      ]
    }
  ]
}